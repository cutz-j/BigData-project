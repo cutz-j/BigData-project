{
 "cells": [
  {
   "cell_type": "code",
   "execution_count": null,
   "metadata": {},
   "outputs": [],
   "source": []
  },
  {
   "cell_type": "code",
   "execution_count": null,
   "metadata": {},
   "outputs": [],
   "source": []
  },
  {
   "cell_type": "markdown",
   "metadata": {},
   "source": [
    "#### 년도 월별 지역구 자료 뽑아오기. "
   ]
  },
  {
   "cell_type": "code",
   "execution_count": null,
   "metadata": {},
   "outputs": [],
   "source": [
    "\n",
    "\n",
    "import pandas as pd\n",
    "from bs4 import BeautifulSoup\n",
    "import requests\n",
    "import pandas as pd\n",
    "import numpy as np\n",
    "def get_data():\n",
    "    code = {'종로구': '11110', '중구': '11140', '용산구': '11170', '성동구': '11200', \n",
    "            '광진구': '11215', '동대문구': '11230', '중랑구': '11260', '성북구': '11290', \n",
    "            '강북구': '11305', '도봉구': '11320', '노원구': '11350', '은평구': '11380', \n",
    "            '서대문구': '11410', '마포구': '11440', '양천구': '11470', '강서구': '11500',\n",
    "            '구로구': '11530', '금천구': '11545', '영등포구': '11560', '동작구': '11590',\n",
    "            '관악구': '11620', '서초구': '11650', '강남구': '11680', '송파구': '11710', '강동구': '11740'}\n",
    "\n",
    "    dateList01 = [\"201601\",\"201602\",\"201603\",\"201604\",\"201605\",\"201606\",\"201607\",\"201608\",\"201609\",\"201610\",\"201611\",\"201612\"]\n",
    "    dateList02 = [\"201701\",\"201702\",\"201703\",\"201704\",\"201705\",\"201706\",\"201707\",\"201708\",\"201709\",\"201710\",\"201711\",\"201712\"]\n",
    "    dateList03 = [\"201801\",\"201802\",\"201803\",\"201804\",\"201805\",\"201806\",\"201807\",\"201808\"]\n",
    "\n",
    "    ## URL request --> 받아오기 ## --> 하루 1000트래픽 한정(1 계정당)\n",
    "\n",
    "    url = 'http://openapi.molit.go.kr:8081/OpenAPI_ToolInstallPackage/service/rest/RTMSOBJSvc/getRTMSDataSvcAptTrade?'\n",
    "    # 서비스키 중요 --> 공공데이터포털에서 오픈API로 받은 인증키를 여기에 입력\n",
    "    serviceKey = 'serviceKey=' + \"9rL%2Fv5RbvEC4bLji%2B3hTKF1wuBPkoVk6nnKg54x54CON8OOz5cLFmRFdIWf38wJmwxilBt4XYpuqm0jzpCoM8w%3D%3D\" + \"&\"\n",
    "\n",
    "    list = code.keys()\n",
    "    list01=[]\n",
    "    for i in list:\n",
    "        list01.append(i)\n",
    " \n",
    "    # num은 추출 년도에 맞게 수정하기.\n",
    "    num = 201801\n",
    "    for k in dateList03:\n",
    "        data_list=[]\n",
    "        for i in list01:\n",
    "            LAWD_CD = 'LAWD_CD=' + code[i] + '&' # 법정 코드 번호 --> 가운데 숫자만 변화주면됨. (위 codedict)\n",
    "            DEAL_YMD = 'DEAL_YMD=' + k # 기간 --> 수집시기는 우리의 몫\n",
    "            url_all = url + serviceKey + LAWD_CD + DEAL_YMD\n",
    "            res = requests.get(url_all)\n",
    "            text = res.text\n",
    "            soup = BeautifulSoup(text,'lxml-xml')\n",
    "\n",
    "            for item in soup.select('item'):\n",
    "                price = item.거래금액.text\n",
    "                apt = item.아파트.text\n",
    "                add = item.법정동.text\n",
    "                howbig = item.전용면적.text\n",
    "                zep = item.지번.text\n",
    "                floor = item.층.text\n",
    "                \n",
    "                data_list.append([apt,add+zep,price,howbig,floor+\"층\"])\n",
    "        data_pd=pd.DataFrame(data_list)  \n",
    "        data_pd.to_csv('clean_'+str(num)+'.csv',encoding='cp949')\n",
    "        num +=1\n",
    "\n",
    "# get_data()"
   ]
  },
  {
   "cell_type": "markdown",
   "metadata": {},
   "source": [
    "#### 전체 주소  뽑아 오기."
   ]
  },
  {
   "cell_type": "code",
   "execution_count": 3,
   "metadata": {},
   "outputs": [],
   "source": [
    "import numpy as np\n",
    "def get_code():\n",
    "    code = {'종로구': '11110', '중구': '11140', '용산구': '11170', '성동구': '11200', \n",
    "            '광진구': '11215', '동대문구': '11230', '중랑구': '11260', '성북구': '11290', \n",
    "            '강북구': '11305', '도봉구': '11320', '노원구': '11350', '은평구': '11380', \n",
    "            '서대문구': '11410', '마포구': '11440', '양천구': '11470', '강서구': '11500',\n",
    "            '구로구': '11530', '금천구': '11545', '영등포구': '11560', '동작구': '11590',\n",
    "            '관악구': '11620', '서초구': '11650', '강남구': '11680', '송파구': '11710', '강동구': '11740'}\n",
    "\n",
    "    dateList = [\"201601\",\"201602\",\"201603\",\"201604\",\"201605\",\"201606\",\"201607\",\"201608\",\"201609\",\"201610\",\"201611\",\"201612\"\n",
    "    \"201701\",\"201702\",\"201703\",\"201704\",\"201705\",\"201706\",\"201707\",\"201708\",\"201709\",\"201710\",\"201711\",\"201712\",\n",
    "    \"201801\",\"201802\",\"201803\",\"201804\",\"201805\",\"201806\",\"201807\",\"201808\"]\n",
    "\n",
    "    ## URL request --> 받아오기 ## --> 하루 1000트래픽 한정(1 계정당)\n",
    "\n",
    "    url = 'http://openapi.molit.go.kr:8081/OpenAPI_ToolInstallPackage/service/rest/RTMSOBJSvc/getRTMSDataSvcAptTrade?'\n",
    "    # 서비스키 중요 --> 공공데이터포털에서 오픈API로 받은 인증키를 여기에 입력\n",
    "    serviceKey = 'serviceKey=' + \"9rL%2Fv5RbvEC4bLji%2B3hTKF1wuBPkoVk6nnKg54x54CON8OOz5cLFmRFdIWf38wJmwxilBt4XYpuqm0jzpCoM8w%3D%3D\" + \"&\"\n",
    "   \n",
    "    # code 키 추출\n",
    "    list = code.keys()\n",
    "    list01=[]\n",
    "    for i in list:\n",
    "        list01.append(i)\n",
    "\n",
    "\n",
    "    tmp_list = []\n",
    "    for k in dateList:      \n",
    "        for i in list01:\n",
    "            LAWD_CD = 'LAWD_CD=' + code[i] + '&' # 법정 코드 번호 --> 가운데 숫자만 변화주면됨. (위 codedict)\n",
    "            DEAL_YMD = 'DEAL_YMD=' + k # 기간 --> 수집시기는 우리의 몫\n",
    "            url_all = url + serviceKey + LAWD_CD + DEAL_YMD\n",
    "            res = requests.get(url_all)\n",
    "            text = res.text\n",
    "            soup = BeautifulSoup(text,'lxml-xml')\n",
    "\n",
    "            for item in soup.select('item'):                 \n",
    "                add = item.법정동.text  \n",
    "                zep = item.지번.text                \n",
    "                tmp_list.append(['서울시', i , add + zep])    \n",
    "        data_pd=pd.DataFrame(tmp_list)\n",
    "\n",
    "    return data_pd.to_csv('house01_code.csv',encoding='cp949')\n",
    "\n",
    "# get_code()  \n",
    "    \n",
    "    \n",
    "        "
   ]
  },
  {
   "cell_type": "markdown",
   "metadata": {},
   "source": [
    "#### 뽑아온 주소 중복주소 제거하기."
   ]
  },
  {
   "cell_type": "code",
   "execution_count": null,
   "metadata": {},
   "outputs": [],
   "source": [
    "def clean():\n",
    "\n",
    "    open_code= pd.read_csv('house01_code.csv',encoding=\"949\")\n",
    "    open_code['hap'] = open_code['0']+open_code['1']+open_code['2']\n",
    "    np_code = np.array(open_code)\n",
    "    clean_code = np.unique(np_code[:,4]) \n",
    "    df_code= pd.DataFrame(clean_code)\n",
    "    return df_code.to_excel('clean_zip.xls',encoding='cp949')\n",
    "# clean()"
   ]
  }
 ],
 "metadata": {
  "kernelspec": {
   "display_name": "Python 3",
   "language": "python",
   "name": "python3"
  },
  "language_info": {
   "codemirror_mode": {
    "name": "ipython",
    "version": 3
   },
   "file_extension": ".py",
   "mimetype": "text/x-python",
   "name": "python",
   "nbconvert_exporter": "python",
   "pygments_lexer": "ipython3",
   "version": "3.6.5"
  }
 },
 "nbformat": 4,
 "nbformat_minor": 2
}
